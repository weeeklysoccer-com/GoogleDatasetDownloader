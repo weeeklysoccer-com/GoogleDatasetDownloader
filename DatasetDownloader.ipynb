{
  "nbformat": 4,
  "nbformat_minor": 0,
  "metadata": {
    "colab": {
      "name": "DatasetDownloader.ipynb",
      "provenance": [],
      "mount_file_id": "18OXR1nuaTPbZIRlpK2FCMfkzAqaDrG_e",
      "authorship_tag": "ABX9TyNpNwiPmo7zKlPptaafKVW/",
      "include_colab_link": true
    },
    "kernelspec": {
      "name": "python3",
      "display_name": "Python 3"
    },
    "language_info": {
      "name": "python"
    }
  },
  "cells": [
    {
      "cell_type": "markdown",
      "metadata": {
        "id": "view-in-github",
        "colab_type": "text"
      },
      "source": [
        "<a href=\"https://colab.research.google.com/github/weeeklysoccer-com/GoogleDatasetDownloader/blob/main/DatasetDownloader.ipynb\" target=\"_parent\"><img src=\"https://colab.research.google.com/assets/colab-badge.svg\" alt=\"Open In Colab\"/></a>"
      ]
    },
    {
      "cell_type": "code",
      "metadata": {
        "id": "YUcINF8Fm4N-"
      },
      "source": [
        "!git clone https://github.com/augmentedstartups/OIDv4_ToolKit.git\n",
        "%cd ./OIDv4_ToolKit\n",
        "!cp /content/drive/MyDrive/DatasetDownloader/converting-annotations.py .\n",
        "!cp /content/drive/MyDrive/DatasetDownloader/properties.py .\n",
        "!mkdir /content/OIDv4_ToolKit/OID/Dataset/images\n",
        "!pip install awscli"
      ],
      "execution_count": null,
      "outputs": []
    },
    {
      "cell_type": "code",
      "metadata": {
        "id": "ooHwF--Undlx"
      },
      "source": [
        "!python main.py downloader --classes Coin Dice Tennis_ball --type_csv train --multiclasses 1 --limit 9"
      ],
      "execution_count": null,
      "outputs": []
    },
    {
      "cell_type": "code",
      "metadata": {
        "id": "mak4n7REuCvR"
      },
      "source": [
        "!python /content/OIDv4_ToolKit/converting-annotations.py"
      ],
      "execution_count": null,
      "outputs": []
    }
  ]
}